{
 "cells": [
  {
   "cell_type": "code",
   "execution_count": 1,
   "id": "69458fd2",
   "metadata": {},
   "outputs": [],
   "source": [
    "import os\n",
    "#print(os.getcwd())\n",
    "os.chdir('D:/Python Workspace/New_project/General')"
   ]
  },
  {
   "cell_type": "markdown",
   "id": "86376068",
   "metadata": {},
   "source": [
    "## Read the data file through pandas Using \n",
    "profilling environment"
   ]
  },
  {
   "cell_type": "code",
   "execution_count": 2,
   "id": "721a2b74",
   "metadata": {},
   "outputs": [
    {
     "name": "stderr",
     "output_type": "stream",
     "text": [
      "d:\\Miniconda_installation\\envs\\profiling\\Lib\\site-packages\\tqdm\\auto.py:21: TqdmWarning: IProgress not found. Please update jupyter and ipywidgets. See https://ipywidgets.readthedocs.io/en/stable/user_install.html\n",
      "  from .autonotebook import tqdm as notebook_tqdm\n"
     ]
    },
    {
     "data": {
      "text/html": [
       "\n",
       "            <div>\n",
       "                <ins><a href=\"https://ydata.ai/register\">Upgrade to ydata-sdk</a></ins>\n",
       "                <p>\n",
       "                    Improve your data and profiling with ydata-sdk, featuring data quality scoring, redundancy detection, outlier identification, text validation, and synthetic data generation.\n",
       "                </p>\n",
       "            </div>\n",
       "            "
      ],
      "text/plain": [
       "<IPython.core.display.HTML object>"
      ]
     },
     "metadata": {},
     "output_type": "display_data"
    }
   ],
   "source": [
    "from ydata_profiling import ProfileReport\n",
    "import pandas as pd\n",
    "import numpy as np\n",
    "\n",
    "def random_sample(data, sample_size=5, random_state=None, replace=False):\n",
    "   \n",
    "    if isinstance(data, (pd.DataFrame, pd.Series)):\n",
    "        return data.sample(n=sample_size if isinstance(sample_size, int) else None,\n",
    "                           frac=sample_size if isinstance(sample_size, float) else None,\n",
    "                           random_state=random_state,\n",
    "                           replace=replace)\n",
    "    \n",
    "    elif isinstance(data, np.ndarray):\n",
    "        if isinstance(sample_size, float):\n",
    "            sample_size = int(len(data) * sample_size)\n",
    "        np.random.seed(random_state)\n",
    "        indices = np.random.choice(len(data), size=sample_size, replace=replace)\n",
    "        return data[indices]\n",
    "    \n",
    "    else:\n",
    "        raise TypeError(\"Data must be a pandas DataFrame, Series, or numpy array.\")\n",
    "\n",
    "\n"
   ]
  },
  {
   "cell_type": "code",
   "execution_count": 3,
   "id": "63b8207d",
   "metadata": {},
   "outputs": [
    {
     "name": "stderr",
     "output_type": "stream",
     "text": [
      "100%|██████████| 54/54 [00:00<00:00, 294.31it/s]<00:00, 98.59it/s, Describe variable: Burns_Calories_Bin]            \n",
      "Summarize dataset: 100%|██████████| 1584/1584 [01:40<00:00, 15.74it/s, Completed]                                                             \n",
      "Generate report structure: 100%|██████████| 1/1 [00:08<00:00,  8.04s/it]\n",
      "Render HTML: 100%|██████████| 1/1 [00:07<00:00,  7.06s/it]\n",
      "Export report to file: 100%|██████████| 1/1 [00:00<00:00,  1.99it/s]\n"
     ]
    }
   ],
   "source": [
    "df = pd.read_csv(\"data/raw/life_style_data.csv\")\n",
    "sample_df = random_sample(df, sample_size=0.05, random_state=10)\n",
    "\n",
    "profile = ProfileReport(sample_df, title=\"Lifestyle Data Full Profile Sample\", explorative=True)\n",
    "profile.to_file(\"analysis_outputs/lifestyle_full_profile_sample.html\")"
   ]
  },
  {
   "cell_type": "code",
   "execution_count": 3,
   "id": "9e62f915",
   "metadata": {},
   "outputs": [
    {
     "name": "stderr",
     "output_type": "stream",
     "text": [
      "Done! Use 'show' commands to display/save.   |██████████| [100%]   00:03 -> (00:00 left)\n"
     ]
    },
    {
     "name": "stdout",
     "output_type": "stream",
     "text": [
      "Report analysis_outputs/sweetviz_report.html was generated! NOTEBOOK/COLAB USERS: the web browser MAY not pop up, regardless, the report IS saved in your notebook/colab files.\n",
      "Saved: analysis_outputs/sweetviz_report.html\n"
     ]
    }
   ],
   "source": [
    "import pandas as pd\n",
    "import sweetviz as sv\n",
    "# import warnings\n",
    "# warnings.filterwarnings(\"ignore\", category=UserWarning, module=\"pkg_resources\")\n",
    "\n",
    "def random_sample(data, sample_size=5, random_state=None, replace=False):\n",
    "   \n",
    "    if isinstance(data, (pd.DataFrame, pd.Series)):\n",
    "        return data.sample(n=sample_size if isinstance(sample_size, int) else None,\n",
    "                           frac=sample_size if isinstance(sample_size, float) else None,\n",
    "                           random_state=random_state,\n",
    "                           replace=replace)\n",
    "    \n",
    "    elif isinstance(data, np.ndarray):\n",
    "        if isinstance(sample_size, float):\n",
    "            sample_size = int(len(data) * sample_size)\n",
    "        np.random.seed(random_state)\n",
    "        indices = np.random.choice(len(data), size=sample_size, replace=replace)\n",
    "        return data[indices]\n",
    "    \n",
    "    else:\n",
    "        raise TypeError(\"Data must be a pandas DataFrame, Series, or numpy array.\")\n",
    "\n",
    "\n",
    "df = pd.read_csv(\"data/raw/life_style_data.csv\", low_memory=False)\n",
    "\n",
    "# Option: sample if dataset is large\n",
    "sample_df = random_sample(df, sample_size=0.05, random_state=10)\n",
    "\n",
    "report = sv.analyze(sample_df)\n",
    "report.show_html(\"analysis_outputs/sweetviz_report.html\")  # creates HTML\n",
    "print(\"Saved: analysis_outputs/sweetviz_report.html\")"
   ]
  }
 ],
 "metadata": {
  "kernelspec": {
   "display_name": "profiling",
   "language": "python",
   "name": "python3"
  },
  "language_info": {
   "codemirror_mode": {
    "name": "ipython",
    "version": 3
   },
   "file_extension": ".py",
   "mimetype": "text/x-python",
   "name": "python",
   "nbconvert_exporter": "python",
   "pygments_lexer": "ipython3",
   "version": "3.11.13"
  }
 },
 "nbformat": 4,
 "nbformat_minor": 5
}
